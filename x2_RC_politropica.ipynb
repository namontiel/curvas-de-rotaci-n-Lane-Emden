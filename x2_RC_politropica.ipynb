{
 "cells": [
  {
   "cell_type": "code",
   "execution_count": 1,
   "metadata": {},
   "outputs": [],
   "source": [
    "import numpy as np\n",
    "import matplotlib.pyplot as plt\n",
    "import pandas as pd\n",
    "from scipy import optimize\n",
    "from scipy import integrate\n",
    "from scipy import interpolate"
   ]
  },
  {
   "cell_type": "code",
   "execution_count": 2,
   "metadata": {},
   "outputs": [],
   "source": [
    "#path = \"/Users/argelia/Desktop/RC_lBS/Data/Blok_McGaugh_Rubin_2001/\"\n",
    "#data = np.loadtxt(path+\"ESO3020120.dat\")\n",
    "path=\"/Users/namh2/Downloads/anterior/ajusteTOV/\"\n",
    "data=np.loadtxt(path+\"datos.txt\")"
   ]
  },
  {
   "cell_type": "code",
   "execution_count": 3,
   "metadata": {},
   "outputs": [],
   "source": [
    "RCr_data = np.array([row[1] for row in data])# galactocentric distance [kpc]\n",
    "RCv_data = np.array([row[5] for row in data])# rotation velocity [km/s]\n",
    "RCev_data = np.array([row[6] for row in data])# error in rotation velocity [km/s]"
   ]
  },
  {
   "cell_type": "code",
   "execution_count": 4,
   "metadata": {},
   "outputs": [
    {
     "data": {
      "text/plain": [
       "Text(0.5, 0, 'r[kpc]')"
      ]
     },
     "execution_count": 4,
     "metadata": {},
     "output_type": "execute_result"
    },
    {
     "data": {
      "image/png": "[encoded data removed]",
      "text/plain": [
       "<Figure size 432x288 with 1 Axes>"
      ]
     },
     "metadata": {
      "needs_background": "light"
     },
     "output_type": "display_data"
    }
   ],
   "source": [
    "plt.errorbar(RCr_data,RCv_data,yerr=RCev_data,fmt='.')\n",
    "plt.ylabel(r'$v_{c}(r)$[km/s]')\n",
    "plt.xlabel(\"r[kpc]\")"
   ]
  },
  {
   "cell_type": "code",
   "execution_count": 40,
   "metadata": {},
   "outputs": [],
   "source": [
    "def Integrate(func,x0,y0,x,h):\n",
    "    # Finds value of y for a given x using step size h \n",
    "    # and initial value y0 at x0.\n",
    "    def RK4(func,x0,y0,h):\n",
    "        K0 = h*func(x0,y0)\n",
    "        K1 = h*func(x0 + 0.5*h, y0 + 0.5*K0)\n",
    "        K2 = h*func(x0 + 0.5*h, y0 + 0.5*K1)\n",
    "        K3 = h*func(x0 + h, y0 + K2)\n",
    "        return (K0 + 2.*K1 + 2.*K2 + K3)/6.\n",
    "    X = []\n",
    "    Y = []\n",
    "    X.append(x0)\n",
    "    Y.append(y0)\n",
    "    #while x0 < x:\n",
    "    while y0[1] > 0.000001*x:\n",
    "         # Count number of iterations using step size or\n",
    "        #h = min(h,x - x0)# step height h\n",
    "        y0 = y0 + RK4(func,x0,y0,h)#update next value of y\n",
    "        x0 = x0 + h#update next value of x\n",
    "        X.append(x0)\n",
    "        Y.append(y0)\n",
    "    return np.array(X),np.array(Y)"
   ]
  },
  {
   "cell_type": "code",
   "execution_count": 41,
   "metadata": {},
   "outputs": [],
   "source": [
    "def rhs(x,y):\n",
    "    dy=np.zeros(2)\n",
    "    dy[0]=3.*x**2*(y[1]/K)**(1./g)\n",
    "    dy[1]=-Gs*y[0]/x**2*(y[1]/K)**(1./g)\n",
    "    return dy"
   ]
  },
  {
   "cell_type": "code",
   "execution_count": 42,
   "metadata": {},
   "outputs": [],
   "source": [
    "Gs=4.785*10**(-7)\n",
    "G=4.258*10**(4)\n",
    "x0=0.0001\n",
    "y0=np.zeros(2)\n",
    "y0[0]=0.\n",
    "h=0.01"
   ]
  },
  {
   "cell_type": "code",
   "execution_count": 52,
   "metadata": {},
   "outputs": [
    {
     "name": "stdout",
     "output_type": "stream",
     "text": [
      "[5.55000000e-10 5.57222222e-10 5.59444444e-10 5.61666667e-10\n",
      " 5.63888889e-10 5.66111111e-10 5.68333333e-10 5.70555556e-10\n",
      " 5.72777778e-10 5.75000000e-10]\n"
     ]
    }
   ],
   "source": [
    "K=1*10**(-6) #Mejor valor de p_0 modificar K\n",
    "g=1.7\n",
    "#g=2.1 #\n",
    "#p_0=1.26*10**(-10)\n",
    "#p_0=4.7*10**(-10) #realizar un mapeo, minimizar Xi^2\n",
    "#p_0=4.8*10**(-10)\n",
    "#p_0=4.9*10**(-10)\n",
    "#p_0=5.552*10**(-10)\n",
    "p_0min=5.55*10**(-10)\n",
    "p_0max=5.75*10**(-10)\n",
    "p_0=np.linspace(p_0min,p_0max,10)\n",
    "print(p_0)''"
   ]
  },
  {
   "cell_type": "code",
   "execution_count": 44,
   "metadata": {},
   "outputs": [],
   "source": [
    "y0[1]=p_0\n",
    "x=100\n",
    "X,Y=Integrate(rhs,x0,y0,p_0,h)"
   ]
  },
  {
   "cell_type": "code",
   "execution_count": 45,
   "metadata": {
    "scrolled": true
   },
   "outputs": [
    {
     "data": {
      "text/plain": [
       "[<matplotlib.lines.Line2D at 0x2a80ad07730>]"
      ]
     },
     "execution_count": 45,
     "metadata": {},
     "output_type": "execute_result"
    },
    {
     "data": {
      "image/png": "[encoded data removed]",
      "text/plain": [
       "<Figure size 432x288 with 1 Axes>"
      ]
     },
     "metadata": {
      "needs_background": "light"
     },
     "output_type": "display_data"
    }
   ],
   "source": [
    "plt.plot(X,Y[:,1])"
   ]
  },
  {
   "cell_type": "code",
   "execution_count": 46,
   "metadata": {},
   "outputs": [],
   "source": [
    "def model(data):\n",
    "    V = []\n",
    "    RC=np.sqrt(G*Y[:,0]/X)\n",
    "    Int_l = interpolate.interp1d(X,RC)#,fill_value='extrapolate')\n",
    "    for i in range(len(data)):\n",
    "        if data[i] < X[-1]:\n",
    "            v=Int_l(data[i])\n",
    "            V.append(v)\n",
    "        else:\n",
    "            v=np.sqrt(G*Y[:,0][-1]/(data[i]))\n",
    "            V.append(v)\n",
    "    return V"
   ]
  },
  {
   "cell_type": "code",
   "execution_count": 47,
   "metadata": {},
   "outputs": [
    {
     "name": "stdout",
     "output_type": "stream",
     "text": [
      "[array(4.54906736), array(15.84139513), array(31.16431539), array(48.18654218), array(71.19342359), array(80.25791689), array(88.25405745), array(91.915325), array(92.60513775), 82.93144131277325, 79.25235089040942]\n",
      "2.9388141393440885\n"
     ]
    }
   ],
   "source": [
    "V=np.zeros(len(RCr_data))\n",
    "V=model(RCr_data)\n",
    "print(V)\n",
    "Xi=np.sum((RCv_data-V)**(2.)/(RCev_data)**2)\n",
    "print(Xi)"
   ]
  },
  {
   "cell_type": "code",
   "execution_count": 48,
   "metadata": {},
   "outputs": [
    {
     "data": {
      "text/plain": [
       "[<matplotlib.lines.Line2D at 0x2a80ad68430>]"
      ]
     },
     "execution_count": 48,
     "metadata": {},
     "output_type": "execute_result"
    },
    {
     "data": {
      "image/png": "[encoded data removed]",
      "text/plain": [
       "<Figure size 432x288 with 1 Axes>"
      ]
     },
     "metadata": {
      "needs_background": "light"
     },
     "output_type": "display_data"
    }
   ],
   "source": [
    "plt.plot(X,Y[:,0])"
   ]
  },
  {
   "cell_type": "code",
   "execution_count": 49,
   "metadata": {},
   "outputs": [],
   "source": [
    "RC=np.sqrt(G*Y[:,0]/X)"
   ]
  },
  {
   "cell_type": "code",
   "execution_count": 50,
   "metadata": {},
   "outputs": [
    {
     "data": {
      "text/plain": [
       "(-1.0, 120.0)"
      ]
     },
     "execution_count": 50,
     "metadata": {},
     "output_type": "execute_result"
    },
    {
     "data": {
      "image/png": "[encoded data removed]",
      "text/plain": [
       "<Figure size 432x288 with 1 Axes>"
      ]
     },
     "metadata": {
      "needs_background": "light"
     },
     "output_type": "display_data"
    }
   ],
   "source": [
    "plt.plot(X,RC)\n",
    "#plt.plot(RCr_data,V)\n",
    "plt.errorbar(RCr_data,RCv_data,yerr=RCev_data,fmt='.')\n",
    "plt.xlim(-1,12)\n",
    "plt.ylim(-1,120)"
   ]
  },
  {
   "cell_type": "code",
   "execution_count": null,
   "metadata": {},
   "outputs": [],
   "source": [
    "for p_0 in range(len(p_0))"
   ]
  }
 ],
 "metadata": {
  "kernelspec": {
   "display_name": "Python 3 (ipykernel)",
   "language": "python",
   "name": "python3"
  },
  "language_info": {
   "codemirror_mode": {
    "name": "ipython",
    "version": 3
   },
   "file_extension": ".py",
   "mimetype": "text/x-python",
   "name": "python",
   "nbconvert_exporter": "python",
   "pygments_lexer": "ipython3",
   "version": "3.9.6"
  }
 },
 "nbformat": 4,
 "nbformat_minor": 4
}
