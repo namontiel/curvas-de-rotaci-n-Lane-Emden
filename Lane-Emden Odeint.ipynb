{
 "cells": [
  {
   "cell_type": "code",
   "execution_count": 67,
   "id": "ea663eaf",
   "metadata": {},
   "outputs": [],
   "source": [
    "import numpy as np\n",
    "%matplotlib inline\n",
    "import matplotlib.pyplot as plt\n",
    "from scipy.integrate import odeint"
   ]
  },
  {
   "cell_type": "code",
   "execution_count": 88,
   "id": "406c6337",
   "metadata": {},
   "outputs": [],
   "source": [
    "def solve(n):\n",
    "    theta_values=[]\n",
    "    xi_values=[]\n",
    "    xi=0.00001\n",
    "    d_xi=0.001\n",
    "    dtheta=0.0\n",
    "    theta=1.0\n",
    "    xi_now=xi\n",
    "    while (theta>=1.0) and (xi_now<20):\n",
    "        xi_now=xi_now+d_xi\n",
    "        dtheta_next=dtheta-(((2/xi_now)*dtheta)+theta**n)*d_xi\n",
    "        theta_next=theta+dtheta_next*d_xi\n",
    "        dtheta=dtheta_next\n",
    "        theta=theta_next\n",
    "        theta_values.append(theta)\n",
    "        xi_values.append(xi_now)\n",
    "        xi_values=np.array(xi_values)\n",
    "        theta_values=np.array(theta_values)\n",
    "        return (xi_values,theta_values)"
   ]
  },
  {
   "cell_type": "code",
   "execution_count": 89,
   "id": "65b80ed7",
   "metadata": {},
   "outputs": [],
   "source": [
    "xi_0,theta_0=solve(0)\n",
    "xi_1,theta_1=solve(1)\n",
    "xi_2,theta_2=solve(2)\n",
    "xi_3,theta_3=solve(3)\n",
    "xi_4,theta_4=solve(4)\n",
    "xi_5,theta_5=solve(5)"
   ]
  },
  {
   "cell_type": "code",
   "execution_count": 90,
   "id": "05ce174d",
   "metadata": {},
   "outputs": [
    {
     "data": {
      "image/png": "[encoded data removed]",
      "text/plain": [
       "<Figure size 648x360 with 1 Axes>"
      ]
     },
     "metadata": {
      "needs_background": "light"
     },
     "output_type": "display_data"
    }
   ],
   "source": [
    "fig,axis=plt.subplots(figsize=(9,5))\n",
    "axis.plot(xi_0,theta_0,label='n=0')\n",
    "axis.plot(xi_1,theta_1,label='n=1')\n",
    "axis.plot(xi_2,theta_2,label='n=2')\n",
    "axis.plot(xi_3,theta_3,label='n=3')\n",
    "axis.plot(xi_4,theta_4,label='n=4')\n",
    "axis.plot(xi_5,theta_5,label='n=5')\n",
    "plt.ylim(0)\n",
    "plt.xlim(0,20)\n",
    "plt.show()"
   ]
  },
  {
   "cell_type": "code",
   "execution_count": 91,
   "id": "34e76456",
   "metadata": {},
   "outputs": [
    {
     "name": "stdout",
     "output_type": "stream",
     "text": [
      "Values of xi at theta = 0 for various n are as follows\n",
      "n=0: 0.001\n",
      "n=1: 0.001\n",
      "n=2: 0.001\n",
      "n=3: 0.001\n",
      "n=4: 0.001\n",
      "n=5: unknown, as it never crosses the x-axis\n"
     ]
    }
   ],
   "source": [
    "int_0 = xi_0[-1]\n",
    "int_1 = xi_1[-1]\n",
    "int_2 = xi_2[-1]\n",
    "int_3 = xi_3[-1]\n",
    "int_4 = xi_4[-1]\n",
    "int_5 = xi_5[-1]\n",
    "print ('Values of xi at theta = 0 for various n are as follows')\n",
    "print ('n=0:', '%.3f' %int_0)\n",
    "print ('n=1:', '%.3f' %int_1)\n",
    "print ('n=2:', '%.3f' %int_2)\n",
    "print ('n=3:', '%.3f' %int_3)\n",
    "print ('n=4:', '%.3f' %int_4)\n",
    "print ('n=5: unknown, as it never crosses the x-axis')"
   ]
  },
  {
   "cell_type": "code",
   "execution_count": null,
   "id": "11e231b4",
   "metadata": {},
   "outputs": [],
   "source": []
  }
 ],
 "metadata": {
  "kernelspec": {
   "display_name": "Python 3 (ipykernel)",
   "language": "python",
   "name": "python3"
  },
  "language_info": {
   "codemirror_mode": {
    "name": "ipython",
    "version": 3
   },
   "file_extension": ".py",
   "mimetype": "text/x-python",
   "name": "python",
   "nbconvert_exporter": "python",
   "pygments_lexer": "ipython3",
   "version": "3.9.6"
  }
 },
 "nbformat": 4,
 "nbformat_minor": 5
}
